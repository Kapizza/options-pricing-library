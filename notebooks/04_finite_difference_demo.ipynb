{
 "cells": [
  {
   "cell_type": "markdown",
   "id": "74347544",
   "metadata": {},
   "source": [
    "# Finite Difference Methods for Option Pricing\n",
    "\n",
    "In this notebook, we demonstrate how to use **finite difference methods (FDMs)**\n",
    "to price European options by numerically solving the **Black–Scholes PDE**:\n",
    "\n",
    "$$\n",
    "\\frac{\\partial V}{\\partial t} \n",
    "+ \\tfrac{1}{2}\\sigma^2 S^2 \\frac{\\partial^2 V}{\\partial S^2} \n",
    "+ r S \\frac{\\partial V}{\\partial S} \n",
    "- rV = 0\n",
    "$$\n",
    "\n",
    "where:\n",
    "\n",
    "- $V(S,t)$ : option price at stock price $S$, time $t$  \n",
    "- $r$ : risk-free interest rate  \n",
    "- $\\sigma$ : volatility  \n",
    "\n",
    "\n",
    "We will use:\n",
    "- **Explicit scheme**  \n",
    "- **Implicit scheme**  \n",
    "- **Crank–Nicolson scheme**  \n",
    "\n",
    "and compare results against the **closed-form Black–Scholes solution**.\n"
   ]
  },
  {
   "cell_type": "code",
   "execution_count": 1,
   "id": "f514964a",
   "metadata": {},
   "outputs": [],
   "source": [
    "import numpy as np\n",
    "import matplotlib.pyplot as plt\n",
    "plt.rcParams[\"font.family\"] = \"Times New Roman\" # Set font to Times New Roman\n",
    "import sys\n",
    "import os\n",
    "\n",
    "\n",
    "# Add the repo root (one level up from notebooks) to Python path\n",
    "repo_root = os.path.abspath(os.path.join(os.getcwd(), \"..\"))\n",
    "sys.path.append(repo_root)\n",
    "# Import packages\n",
    "from options_pricing.black_scholes import black_scholes_price\n",
    "from options_pricing.finite_difference import finite_difference\n"
   ]
  },
  {
   "cell_type": "markdown",
   "id": "820a8dda",
   "metadata": {},
   "source": [
    "## Parameters\n",
    "We set up standard option parameters:\n"
   ]
  },
  {
   "cell_type": "code",
   "execution_count": 2,
   "id": "1f338fb4",
   "metadata": {},
   "outputs": [],
   "source": [
    "# Option and model parameters\n",
    "S0     = 100     # initial stock price\n",
    "K      = 100     # strike price\n",
    "T      = 1.0     # time to maturity (years)\n",
    "r      = 0.05    # risk-free rate\n",
    "sigma  = 0.2     # volatility\n",
    "\n",
    "# Grid parameters\n",
    "M_stock = 200         # stock price steps\n",
    "N_time  = 200         # baseline time steps\n",
    "S_max   = 3 * K       # maximum stock price\n",
    "\n",
    "# Build stock price grid\n",
    "S_values = np.linspace(0, S_max, M_stock + 1)\n"
   ]
  },
  {
   "cell_type": "markdown",
   "id": "96611239",
   "metadata": {},
   "source": [
    "## 2. Explicit FD Stability Condition\n",
    "\n",
    "The explicit scheme is only stable if the time step \\(\\Delta t\\) is small enough.  \n",
    "A common stability condition is:\n",
    "\n",
    "$\n",
    "\\Delta t \\leq \\frac{1}{\\sigma^2 M^2 + rM}\n",
    "$\n",
    "\n",
    "We compute the minimum number of time steps \\(N\\) required to satisfy this.\n"
   ]
  },
  {
   "cell_type": "code",
   "execution_count": 3,
   "id": "8a4d718a",
   "metadata": {},
   "outputs": [
    {
     "name": "stdout",
     "output_type": "stream",
     "text": [
      "Baseline N = 200\n",
      "Minimum stable N for Explicit FD = 1772\n"
     ]
    }
   ],
   "source": [
    "dS = S_max / M_stock\n",
    "dt_max1 = 1.0 / (sigma**2 * M_stock**2 + r * M_stock)   # worst-case at i=M\n",
    "dt_max2 = (dS**2) / (sigma**2 * S_max**2)               # conservative spatial bound\n",
    "dt_max  = min(dt_max1, dt_max2)\n",
    "\n",
    "safety  = 1.10  # small safety factor\n",
    "N_explicit = int(np.ceil(T / (dt_max / safety)))\n",
    "\n",
    "print(\"Baseline N =\", N_time)\n",
    "print(\"Minimum stable N for Explicit FD =\", N_explicit)\n"
   ]
  },
  {
   "cell_type": "markdown",
   "id": "902d771b",
   "metadata": {},
   "source": [
    "## Black–Scholes Benchmark\n",
    "\n",
    "First, compute the analytical solution for a European call:\n"
   ]
  },
  {
   "cell_type": "code",
   "execution_count": 4,
   "id": "a74c51ad",
   "metadata": {},
   "outputs": [
    {
     "name": "stdout",
     "output_type": "stream",
     "text": [
      "Black–Scholes Call Price: 10.4506\n"
     ]
    }
   ],
   "source": [
    "V_bs = black_scholes_price(S0, K, T, r, sigma, option_type=\"call\")\n",
    "print(f\"Black–Scholes Call Price: {V_bs:.4f}\")\n"
   ]
  },
  {
   "cell_type": "markdown",
   "id": "a07cb519",
   "metadata": {},
   "source": [
    "## 3. Compute Option Values\n",
    "\n",
    "Now let’s compute the option price using **explicit, implicit, and Crank–Nicolson** schemes.\n",
    "\n",
    "Note: the explicit method requires a stability condition on `Δt` and `ΔS`.  \n",
    "If the condition is not met, the solution diverges."
   ]
  },
  {
   "cell_type": "code",
   "execution_count": 5,
   "id": "1eb4a5e7",
   "metadata": {},
   "outputs": [
    {
     "name": "stderr",
     "output_type": "stream",
     "text": [
      "c:\\Users\\datog\\OneDrive\\Desktop\\options-pricing-library\\options-pricing-library\\options_pricing\\black_scholes.py:17: RuntimeWarning: divide by zero encountered in log\n",
      "  d1 = (np.log(S / K) + (r + 0.5 * sigma**2) * T) / (sigma * np.sqrt(T))\n"
     ]
    }
   ],
   "source": [
    "# Analytical solution\n",
    "V_bs = np.array([black_scholes_price(S, K, T, r, sigma, option_type=\"call\") \n",
    "                 for S in S_values])\n",
    "\n",
    "# Finite difference methods\n",
    "V_explicit = finite_difference(S_values, K, T, r, sigma, \n",
    "                               Smax=S_max, M=M_stock, N=N_explicit, \n",
    "                               option=\"call\", method=\"explicit\")\n",
    "\n",
    "V_implicit = finite_difference(S_values, K, T, r, sigma, \n",
    "                               Smax=S_max, M=M_stock, N=N_time, \n",
    "                               option=\"call\", method=\"implicit\")\n",
    "\n",
    "V_cn = finite_difference(S_values, K, T, r, sigma, \n",
    "                         Smax=S_max, M=M_stock, N=N_time, \n",
    "                         option=\"call\", method=\"crank-nicolson\")\n"
   ]
  },
  {
   "cell_type": "markdown",
   "id": "675d0d4a",
   "metadata": {},
   "source": [
    "## 4. Plot Results\n",
    "\n",
    "We now plot all methods together to verify convergence.  \n",
    "The Explicit FD is stable thanks to the adjusted number of time steps.\n"
   ]
  },
  {
   "cell_type": "code",
   "execution_count": 6,
   "id": "e700eb22",
   "metadata": {},
   "outputs": [
    {
     "data": {
      "image/png": "[encoded data removed]",
      "text/plain": [
       "<Figure size 800x500 with 1 Axes>"
      ]
     },
     "metadata": {},
     "output_type": "display_data"
    }
   ],
   "source": [
    "plt.figure(figsize=(8,5))\n",
    "plt.plot(S_values, V_bs, label=\"Black–Scholes (analytical)\", lw=2, c=\"black\")\n",
    "plt.plot(S_values, V_explicit, \"--\", label=f\"Explicit FD (N={N_explicit})\")\n",
    "plt.plot(S_values, V_implicit, \"--\", label=f\"Implicit FD (N={N_time})\")\n",
    "plt.plot(S_values, V_cn, \"--\", label=f\"Crank–Nicolson FD (N={N_time})\")\n",
    "plt.xlabel(\"Stock Price (S)\")\n",
    "plt.ylabel(\"Option Value\")\n",
    "plt.title(\"European Call Option Pricing via Finite Difference Methods\")\n",
    "plt.legend()\n",
    "plt.grid(True)\n",
    "plt.ylim(0, 1.1*np.max(V_bs))\n",
    "plt.show()\n"
   ]
  },
  {
   "cell_type": "markdown",
   "id": "f522da05",
   "metadata": {},
   "source": [
    "## 5. Observations\n",
    "- The **Implicit** and **Crank–Nicolson** schemes lie almost exactly on top of the Black–Scholes curve.  \n",
    "- The **Explicit** scheme now also matches, but only after increasing \\(N\\) to satisfy stability.  \n",
    "- In practice, **Implicit** and **Crank–Nicolson** are preferred since they are unconditionally stable.  \n"
   ]
  },
  {
   "cell_type": "markdown",
   "id": "23bc59ed",
   "metadata": {},
   "source": []
  }
 ],
 "metadata": {
  "kernelspec": {
   "display_name": "venv (3.13.5)",
   "language": "python",
   "name": "python3"
  },
  "language_info": {
   "codemirror_mode": {
    "name": "ipython",
    "version": 3
   },
   "file_extension": ".py",
   "mimetype": "text/x-python",
   "name": "python",
   "nbconvert_exporter": "python",
   "pygments_lexer": "ipython3",
   "version": "3.13.5"
  }
 },
 "nbformat": 4,
 "nbformat_minor": 5
}
