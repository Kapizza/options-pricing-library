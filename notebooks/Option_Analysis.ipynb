{
 "cells": [
  {
   "cell_type": "code",
   "execution_count": 27,
   "id": "21759e55",
   "metadata": {},
   "outputs": [
    {
     "name": "stderr",
     "output_type": "stream",
     "text": [
      "[*********************100%***********************]  1 of 1 completed"
     ]
    },
    {
     "name": "stdout",
     "output_type": "stream",
     "text": [
      "Spot Price: 249.53, Volatility: 22.28%\n",
      "Call Price (BS): 55.35\n",
      "Put Price (MC): 0.88\n"
     ]
    },
    {
     "name": "stderr",
     "output_type": "stream",
     "text": [
      "\n",
      "c:\\Users\\datog\\OneDrive\\Desktop\\options-pricing-library\\options-pricing-library\\data\\data_loader.py:16: FutureWarning: Calling float on a single element Series is deprecated and will raise a TypeError in the future. Use float(ser.iloc[0]) instead\n",
      "  return float(stock_data['Close'].iloc[-1])\n",
      "c:\\Users\\datog\\venv\\Lib\\site-packages\\numpy\\_core\\fromnumeric.py:4062: FutureWarning: The behavior of DataFrame.std with axis=None is deprecated, in a future version this will reduce over both axes and return a scalar. To retain the old behavior, pass axis=0 (or do not pass axis)\n",
      "  return std(axis=axis, dtype=dtype, out=out, ddof=ddof, **kwargs)\n",
      "c:\\Users\\datog\\OneDrive\\Desktop\\options-pricing-library\\options-pricing-library\\data\\data_loader.py:13: FutureWarning: Calling float on a single element Series is deprecated and will raise a TypeError in the future. Use float(ser.iloc[0]) instead\n",
      "  return float(sigma)\n"
     ]
    }
   ],
   "source": [
    "import sys\n",
    "import os\n",
    "\n",
    "# Add the repo root (one level up from notebooks) to Python path\n",
    "repo_root = os.path.abspath(os.path.join(os.getcwd(), \"..\"))\n",
    "sys.path.append(repo_root)\n",
    "\n",
    "# Now imports work\n",
    "from options_pricing.black_scholes import black_scholes_price\n",
    "from options_pricing.monte_carlo import monte_carlo_option_pricing\n",
    "from data.data_loader import fetch_stock_data, compute_annualized_volatility, get_latest_price\n",
    "\n",
    "\n",
    "import yfinance as yf\n",
    "\n",
    "# Fetch stock data\n",
    "ticker = \"AAPL\"\n",
    "data = fetch_stock_data(ticker, start=\"2024-01-01\", end=\"2025-01-01\")\n",
    "\n",
    "# Spot price & volatility as scalars\n",
    "S0 = float(get_latest_price(data))\n",
    "sigma = float(compute_annualized_volatility(data))\n",
    "\n",
    "# Parameters\n",
    "K = 200\n",
    "T = 0.5\n",
    "r = 0.05\n",
    "\n",
    "# Price options\n",
    "call_price = black_scholes_price(S0, K, T, r, sigma, option_type=\"call\")\n",
    "put_price = monte_carlo_option_pricing(S0, K, T, r, sigma,\n",
    "                                       option_type=\"put\", n_simulations=100000, seed=42)\n",
    "\n",
    "print(f\"Spot Price: {S0:.2f}, Volatility: {sigma:.2%}\")\n",
    "print(f\"Call Price (BS): {call_price:.2f}\")\n",
    "print(f\"Put Price (MC): {put_price:.2f}\")\n",
    "\n"
   ]
  },
  {
   "cell_type": "code",
   "execution_count": 8,
   "id": "43b7f8da",
   "metadata": {},
   "outputs": [],
   "source": [
    "S0 = data['Close'].iloc[-1]  # last available closing price\n"
   ]
  },
  {
   "cell_type": "code",
   "execution_count": null,
   "id": "796c23ff",
   "metadata": {},
   "outputs": [],
   "source": []
  }
 ],
 "metadata": {
  "kernelspec": {
   "display_name": "venv (3.13.5)",
   "language": "python",
   "name": "python3"
  },
  "language_info": {
   "codemirror_mode": {
    "name": "ipython",
    "version": 3
   },
   "file_extension": ".py",
   "mimetype": "text/x-python",
   "name": "python",
   "nbconvert_exporter": "python",
   "pygments_lexer": "ipython3",
   "version": "3.13.5"
  }
 },
 "nbformat": 4,
 "nbformat_minor": 5
}
