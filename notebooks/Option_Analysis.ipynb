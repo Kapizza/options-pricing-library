{
 "cells": [
  {
   "cell_type": "code",
   "execution_count": 1,
   "id": "21759e55",
   "metadata": {},
   "outputs": [
    {
     "name": "stderr",
     "output_type": "stream",
     "text": [
      "[*********************100%***********************]  1 of 1 completed"
     ]
    },
    {
     "name": "stdout",
     "output_type": "stream",
     "text": [
      "Spot Price: 249.53, Volatility: 22.32%\n",
      "Call Price (BS): 55.36\n",
      "Put Price (MC): 0.89\n"
     ]
    },
    {
     "name": "stderr",
     "output_type": "stream",
     "text": [
      "\n"
     ]
    }
   ],
   "source": [
    "import sys\n",
    "import os\n",
    "\n",
    "# Add the repo root (one level up from notebooks) to Python path\n",
    "repo_root = os.path.abspath(os.path.join(os.getcwd(), \"..\"))\n",
    "sys.path.append(repo_root)\n",
    "\n",
    "\n",
    "# Now imports work\n",
    "from options_pricing.black_scholes import black_scholes_price\n",
    "from options_pricing.monte_carlo import monte_carlo_option_price\n",
    "from data.data_loader import fetch_stock_data, compute_annualized_volatility, get_latest_price\n",
    "\n",
    "\n",
    "import yfinance as yf\n",
    "\n",
    "# Fetch stock data\n",
    "ticker = \"AAPL\"\n",
    "data = fetch_stock_data(ticker, start=\"2024-01-01\", end=\"2025-01-01\")\n",
    "\n",
    "# Spot price & volatility as scalars\n",
    "S0 = float(get_latest_price(data))\n",
    "sigma = float(compute_annualized_volatility(data))\n",
    "\n",
    "# Parameters\n",
    "K = 200\n",
    "T = 0.5\n",
    "r = 0.05\n",
    "\n",
    "# Price options\n",
    "call_price = black_scholes_price(S0, K, T, r, sigma, option_type=\"call\")\n",
    "put_price = monte_carlo_option_price(S0, K, T, r, sigma,\n",
    "                                       option_type=\"put\", n_simulations=100000, seed=42)\n",
    "\n",
    "print(f\"Spot Price: {S0:.2f}, Volatility: {sigma:.2%}\")\n",
    "print(f\"Call Price (BS): {call_price:.2f}\")\n",
    "print(f\"Put Price (MC): {put_price:.2f}\")\n",
    "\n"
   ]
  },
  {
   "cell_type": "code",
   "execution_count": 2,
   "id": "796c23ff",
   "metadata": {},
   "outputs": [
    {
     "name": "stdout",
     "output_type": "stream",
     "text": [
      "Explicit: 10.448637487496628\n",
      "Implicit: 10.361641084463221\n",
      "Crank-Nicolson: 10.362771893255863\n"
     ]
    }
   ],
   "source": [
    "import sys\n",
    "import os\n",
    "\n",
    "# Add the repo root (one level up from notebooks) to Python path\n",
    "repo_root = os.path.abspath(os.path.join(os.getcwd(), \"..\"))\n",
    "sys.path.append(repo_root)\n",
    "from options_pricing.finite_difference import finite_difference\n",
    "\n",
    "S0 = 100\n",
    "K = 100\n",
    "T = 1\n",
    "r = 0.05\n",
    "sigma = 0.2\n",
    "\n",
    "price_explicit = finite_difference(S0, K, T, r, sigma, method=\"explicit\")\n",
    "price_implicit = finite_difference(S0, K, T, r, sigma, method=\"implicit\")\n",
    "price_cn = finite_difference(S0, K, T, r, sigma, method=\"crank-nicolson\")\n",
    "\n",
    "print(\"Explicit:\", price_explicit)\n",
    "print(\"Implicit:\", price_implicit)\n",
    "print(\"Crank-Nicolson:\", price_cn)\n"
   ]
  },
  {
   "cell_type": "code",
   "execution_count": null,
   "id": "b3a98abd",
   "metadata": {},
   "outputs": [
    {
     "name": "stdout",
     "output_type": "stream",
     "text": [
      "  Ticker  Shares Outstanding   Free Float  Free Float %  Valid Data\n",
      "0   GOOG          5430000128  10836344940        199.56       False\n",
      "1   AAPL         14840399872  14814270914         99.82        True\n",
      "2   MSFT          7433169920   7422388288         99.85        True\n",
      "3   TSLA          3225449984   2711473609         84.06        True\n"
     ]
    }
   ],
   "source": [
    "import yfinance as yf\n",
    "import pandas as pd\n",
    "\n",
    "def get_free_float_checked(tickers):\n",
    "    \"\"\"\n",
    "    Fetch shares outstanding, free float, and free float % for tickers,\n",
    "    and check for inconsistencies.\n",
    "    \n",
    "    Parameters:\n",
    "        tickers (list): List of ticker symbols\n",
    "    \n",
    "    Returns:\n",
    "        pd.DataFrame: DataFrame with columns \n",
    "                      ['Ticker', 'Shares Outstanding', 'Free Float', 'Free Float %', 'Valid Data']\n",
    "    \"\"\"\n",
    "    results = []\n",
    "\n",
    "    for symbol in tickers:\n",
    "        try:\n",
    "            ticker = yf.Ticker(symbol)\n",
    "            info = ticker.info\n",
    "            shares_outstanding = info.get(\"sharesOutstanding\", None)\n",
    "            free_float = info.get(\"floatShares\", None)\n",
    "            \n",
    "            # Calculate free float %\n",
    "            if shares_outstanding and free_float:\n",
    "                free_float_pct = round((free_float / shares_outstanding) * 100, 2)\n",
    "                valid = free_float <= shares_outstanding\n",
    "            else:\n",
    "                free_float_pct = None\n",
    "                valid = False\n",
    "            if (valid):\n",
    "                results.append({\n",
    "                    \"Ticker\": symbol,\n",
    "                    \"Shares Outstanding\": shares_outstanding,\n",
    "                    \"Free Float\": free_float,\n",
    "                    \"Free Float %\": free_float_pct,\n",
    "                    \"Valid Data\": valid\n",
    "                })\n",
    "        except Exception as e:\n",
    "            print(f\"Error fetching {symbol}: {e}\")\n",
    "            results.append({\n",
    "                \"Ticker\": symbol,\n",
    "                \"Shares Outstanding\": None,\n",
    "                \"Free Float\": None,\n",
    "                \"Free Float %\": None,\n",
    "                \"Valid Data\": False\n",
    "            })\n",
    "    \n",
    "    return pd.DataFrame(results)\n",
    "\n",
    "\n",
    "# Example usage\n",
    "tickers = [\"GOOG\", \"AAPL\", \"MSFT\", \"TSLA\"]\n",
    "df = get_free_float_checked(tickers)\n",
    "print(df)\n"
   ]
  },
  {
   "cell_type": "code",
   "execution_count": null,
   "id": "7eefda8c",
   "metadata": {},
   "outputs": [],
   "source": []
  }
 ],
 "metadata": {
  "kernelspec": {
   "display_name": "venv (3.13.5)",
   "language": "python",
   "name": "python3"
  },
  "language_info": {
   "codemirror_mode": {
    "name": "ipython",
    "version": 3
   },
   "file_extension": ".py",
   "mimetype": "text/x-python",
   "name": "python",
   "nbconvert_exporter": "python",
   "pygments_lexer": "ipython3",
   "version": "3.13.5"
  }
 },
 "nbformat": 4,
 "nbformat_minor": 5
}
