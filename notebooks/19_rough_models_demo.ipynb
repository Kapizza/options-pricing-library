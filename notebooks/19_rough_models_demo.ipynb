{
 "cells": [
  {
   "cell_type": "markdown",
   "id": "a699cb1b",
   "metadata": {},
   "source": [
    "# Rough Models Demo (rBergomi & Rough Heston)\n",
    "* Self-contained notebook using functions from `src/rough.py`\n",
    "* What you’ll see:\n",
    "  * Path simulation sanity checks\n",
    "  * Single-strike pricing + put–call parity\n",
    "  * Smile from one set of terminal states\n",
    "  * ATM IV term structure\n",
    "* Toggle model with a single flag: `\"rough_heston\"` or `\"rbergomi\"`\n"
   ]
  },
  {
   "cell_type": "code",
   "execution_count": null,
   "id": "c362ef67",
   "metadata": {},
   "outputs": [],
   "source": [
    "# 0) Imports & setup\n",
    "import os, sys, math\n",
    "import numpy as np\n",
    "import matplotlib.pyplot as plt\n",
    "\n",
    "# plotting style\n",
    "plt.rcParams[\"figure.figsize\"] = (8, 5)\n",
    "plt.rcParams[\"axes.grid\"] = True\n",
    "plt.rcParams[\"font.size\"] = 12\n",
    "repo_root = os.path.abspath(os.path.join(os.getcwd(), \"..\"))\n",
    "sys.path.append(repo_root)\n",
    "from src.rough import (\n",
    "    rbergomi_paths,\n",
    "    rbergomi_euro_mc,\n",
    "    rough_heston_paths,\n",
    "    rough_heston_euro_mc,\n",
    ")\n",
    "from src.black_scholes import black_scholes_price\n",
    "\n",
    "def implied_vol_from_price_bs(S, K, T, r, price, cp=\"call\", q=0.0, lo=1e-4, hi=4.0, tol=1e-6, iters=80):\n",
    "    lo = float(lo); hi = float(hi)\n",
    "    for _ in range(iters):\n",
    "        mid = 0.5*(lo+hi)\n",
    "        p = black_scholes_price(S, K, T, r, mid, option_type=cp, q=q)\n",
    "        if p > price: hi = mid\n",
    "        else: lo = mid\n",
    "        if hi - lo < tol: return mid\n",
    "    return mid\n",
    "\n",
    "# helper: price from a vector of terminal prices\n",
    "def mc_price_from_ST(ST, K, r, T, cp=\"call\"):\n",
    "    if cp == \"call\":\n",
    "        payoff = np.maximum(ST - K, 0.0)\n",
    "    else:\n",
    "        payoff = np.maximum(K - ST, 0.0)\n",
    "    DF = math.exp(-r*T)\n",
    "    disc = DF * payoff\n",
    "    p = float(np.mean(disc))\n",
    "    se = float(np.std(disc, ddof=1) / math.sqrt(ST.size))\n",
    "    return p, se\n"
   ]
  },
  {
   "cell_type": "markdown",
   "id": "42e2c952",
   "metadata": {},
   "source": [
    "## 1) Model parameters\n",
    "Choose a baseline parameter set typical for equity under rough Heston.\n"
   ]
  },
  {
   "cell_type": "code",
   "execution_count": 7,
   "id": "f5853bc6",
   "metadata": {},
   "outputs": [],
   "source": [
    "S0    = 100.0\n",
    "v0    = 0.04\n",
    "r     = 0.02\n",
    "q     = 0.00\n",
    "H     = 0.10\n",
    "kappa = 1.8\n",
    "theta = 0.04\n",
    "eta   = 1.8\n",
    "rho   = -0.7\n",
    "\n",
    "T     = 0.75\n",
    "N     = 192\n",
    "n_mc  = 12000\n",
    "SEED  = 123\n"
   ]
  },
  {
   "cell_type": "markdown",
   "id": "1357e1bc",
   "metadata": {},
   "source": [
    "## 2) Simulate paths and sanity checks\n",
    "Generate S(t) and V(t) paths, then inspect shapes, ranges, and plot a small subset.\n"
   ]
  },
  {
   "cell_type": "code",
   "execution_count": 8,
   "id": "594407a5",
   "metadata": {},
   "outputs": [
    {
     "ename": "TypeError",
     "evalue": "rbergomi_paths() got an unexpected keyword argument 'v0'. Did you mean 'S0'?",
     "output_type": "error",
     "traceback": [
      "\u001b[31m---------------------------------------------------------------------------\u001b[39m",
      "\u001b[31mTypeError\u001b[39m                                 Traceback (most recent call last)",
      "\u001b[36mCell\u001b[39m\u001b[36m \u001b[39m\u001b[32mIn[8]\u001b[39m\u001b[32m, line 1\u001b[39m\n\u001b[32m----> \u001b[39m\u001b[32m1\u001b[39m t, S, V = \u001b[43mrough_heston_paths\u001b[49m\u001b[43m(\u001b[49m\n\u001b[32m      2\u001b[39m \u001b[43m    \u001b[49m\u001b[43mS0\u001b[49m\u001b[43m=\u001b[49m\u001b[43mS0\u001b[49m\u001b[43m,\u001b[49m\u001b[43m \u001b[49m\u001b[43mv0\u001b[49m\u001b[43m=\u001b[49m\u001b[43mv0\u001b[49m\u001b[43m,\u001b[49m\u001b[43m \u001b[49m\u001b[43mT\u001b[49m\u001b[43m=\u001b[49m\u001b[43mT\u001b[49m\u001b[43m,\u001b[49m\u001b[43m \u001b[49m\u001b[43mN\u001b[49m\u001b[43m=\u001b[49m\u001b[43mN\u001b[49m\u001b[43m,\u001b[49m\u001b[43m \u001b[49m\u001b[43mn_paths\u001b[49m\u001b[43m=\u001b[49m\u001b[43mn_mc\u001b[49m\u001b[43m,\u001b[49m\u001b[43m \u001b[49m\u001b[43mH\u001b[49m\u001b[43m=\u001b[49m\u001b[43mH\u001b[49m\u001b[43m,\u001b[49m\n\u001b[32m      3\u001b[39m \u001b[43m    \u001b[49m\u001b[43mkappa\u001b[49m\u001b[43m=\u001b[49m\u001b[43mkappa\u001b[49m\u001b[43m,\u001b[49m\u001b[43m \u001b[49m\u001b[43mtheta\u001b[49m\u001b[43m=\u001b[49m\u001b[43mtheta\u001b[49m\u001b[43m,\u001b[49m\u001b[43m \u001b[49m\u001b[43meta\u001b[49m\u001b[43m=\u001b[49m\u001b[43meta\u001b[49m\u001b[43m,\u001b[49m\u001b[43m \u001b[49m\u001b[43mrho\u001b[49m\u001b[43m=\u001b[49m\u001b[43mrho\u001b[49m\u001b[43m,\u001b[49m\n\u001b[32m      4\u001b[39m \u001b[43m    \u001b[49m\u001b[43mr\u001b[49m\u001b[43m=\u001b[49m\u001b[43mr\u001b[49m\u001b[43m,\u001b[49m\u001b[43m \u001b[49m\u001b[43mq\u001b[49m\u001b[43m=\u001b[49m\u001b[43mq\u001b[49m\u001b[43m,\u001b[49m\u001b[43m \u001b[49m\u001b[43mseed\u001b[49m\u001b[43m=\u001b[49m\u001b[43mSEED\u001b[49m\u001b[43m,\u001b[49m\u001b[43m \u001b[49m\u001b[43mbatch_size\u001b[49m\u001b[43m=\u001b[49m\u001b[32;43m1024\u001b[39;49m\n\u001b[32m      5\u001b[39m \u001b[43m)\u001b[49m\n\u001b[32m      7\u001b[39m \u001b[38;5;28mprint\u001b[39m(\u001b[33m\"\u001b[39m\u001b[33mShapes:\u001b[39m\u001b[33m\"\u001b[39m, S.shape, V.shape)\n\u001b[32m      8\u001b[39m \u001b[38;5;28mprint\u001b[39m(\u001b[33m\"\u001b[39m\u001b[33mS min/max:\u001b[39m\u001b[33m\"\u001b[39m, \u001b[38;5;28mfloat\u001b[39m(S.min()), \u001b[38;5;28mfloat\u001b[39m(S.max()))\n",
      "\u001b[31mTypeError\u001b[39m: rbergomi_paths() got an unexpected keyword argument 'v0'. Did you mean 'S0'?"
     ]
    }
   ],
   "source": [
    "t, S, V = rough_heston_paths(\n",
    "    S0=S0, v0=v0, T=T, N=N, n_paths=n_mc, H=H,\n",
    "    kappa=kappa, theta=theta, eta=eta, rho=rho,\n",
    "    r=r, q=q, seed=SEED, batch_size=1024\n",
    ")\n",
    "\n",
    "print(\"Shapes:\", S.shape, V.shape)\n",
    "print(\"S min/max:\", float(S.min()), float(S.max()))\n",
    "print(\"V min/max:\", float(V.min()), float(V.max()))\n",
    "\n",
    "n_show = 30\n",
    "idx = np.random.default_rng(7).choice(S.shape[0], size=n_show, replace=False)\n",
    "\n",
    "fig, ax = plt.subplots()\n",
    "ax.plot(t, S[idx].T, lw=0.7, alpha=0.6)\n",
    "ax.set_title(\"Rough Heston spot paths\")\n",
    "ax.set_xlabel(\"t [years]\")\n",
    "ax.set_ylabel(\"S(t)\")\n",
    "plt.show()\n",
    "\n",
    "fig, ax = plt.subplots()\n",
    "ax.plot(t, V[idx].T, lw=0.7, alpha=0.6)\n",
    "ax.set_title(\"Rough Heston variance paths\")\n",
    "ax.set_xlabel(\"t [years]\")\n",
    "ax.set_ylabel(\"V(t)\")\n",
    "plt.show()\n"
   ]
  },
  {
   "cell_type": "code",
   "execution_count": null,
   "id": "81e97188",
   "metadata": {},
   "outputs": [],
   "source": []
  }
 ],
 "metadata": {
  "kernelspec": {
   "display_name": "venv (3.13.5)",
   "language": "python",
   "name": "python3"
  },
  "language_info": {
   "codemirror_mode": {
    "name": "ipython",
    "version": 3
   },
   "file_extension": ".py",
   "mimetype": "text/x-python",
   "name": "python",
   "nbconvert_exporter": "python",
   "pygments_lexer": "ipython3",
   "version": "3.13.5"
  }
 },
 "nbformat": 4,
 "nbformat_minor": 5
}
