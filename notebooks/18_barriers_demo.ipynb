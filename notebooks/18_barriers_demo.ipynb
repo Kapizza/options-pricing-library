{
 "cells": [
  {
   "cell_type": "markdown",
   "id": "ecaa98cc",
   "metadata": {},
   "source": [
    "# Barrier Options Demo\n",
    "\n",
    "*This notebook demonstrates continuous monitoring barrier pricing with Brownian bridge, digital options in BSM with dividend yield, and simple validations.*\n",
    "\n",
    "**You will see**\n",
    "* Up and down barriers priced by Monte Carlo with Brownian bridge\n",
    "* In-out parity checks vs vanilla BSM\n",
    "* Convergence with time steps\n",
    "* Digitals sanity checks\n",
    "* Plots and small experiments\n"
   ]
  },
  {
   "cell_type": "code",
   "execution_count": 5,
   "id": "68206463",
   "metadata": {},
   "outputs": [],
   "source": [
    "import numpy as np\n",
    "import matplotlib.pyplot as plt\n",
    "plt.rcParams[\"font.family\"] = \"Times New Roman\" # Set font to Times New Roman\n",
    "import sys\n",
    "import os\n",
    "\n",
    "\n",
    "# Add the repo root (one level up from notebooks) to Python path\n",
    "repo_root = os.path.abspath(os.path.join(os.getcwd(), \"..\"))\n",
    "sys.path.append(repo_root)\n",
    "\n",
    "from src.barriers import (\n",
    "    barrier_price_mc,\n",
    "    MCConfig,\n",
    "    digital_cash_bsm,\n",
    "    digital_asset_bsm,\n",
    ")\n",
    "from src.black_scholes import black_scholes_price\n",
    "\n",
    "np.set_printoptions(precision=6, suppress=True)\n"
   ]
  },
  {
   "cell_type": "markdown",
   "id": "eb478c0c",
   "metadata": {},
   "source": [
    "## 1) Parameters\n",
    "\n",
    "*We set a base scenario and compute vanilla BSM prices for reference.*\n"
   ]
  },
  {
   "cell_type": "code",
   "execution_count": 6,
   "id": "703258e9",
   "metadata": {},
   "outputs": [
    {
     "name": "stdout",
     "output_type": "stream",
     "text": [
      "Vanilla call: 7.255498\n",
      "Vanilla put : 6.508304\n"
     ]
    }
   ],
   "source": [
    "S0 = 100.0\n",
    "K  = 100.0\n",
    "r  = 0.01\n",
    "q  = 0.00\n",
    "sigma = 0.20\n",
    "T  = 0.75\n",
    "\n",
    "cfg_fast = MCConfig(n_paths=80_000, n_steps=252, seed=42, antithetic=True)\n",
    "cfg_accurate = MCConfig(n_paths=300_000, n_steps=365, seed=42, antithetic=True)\n",
    "\n",
    "vanilla_call = black_scholes_price(S0, K, T, r, sigma, option_type=\"call\", q=q)\n",
    "vanilla_put  = black_scholes_price(S0, K, T, r, sigma, option_type=\"put\",  q=q)\n",
    "\n",
    "print(f\"Vanilla call: {vanilla_call:.6f}\")\n",
    "print(f\"Vanilla put : {vanilla_put:.6f}\")\n"
   ]
  },
  {
   "cell_type": "markdown",
   "id": "9aa3dcc9",
   "metadata": {},
   "source": [
    "## 2) Up-and-out and Up-and-in calls\n",
    "\n",
    "*Out should be below vanilla. In should be vanilla minus out.*\n"
   ]
  },
  {
   "cell_type": "code",
   "execution_count": 4,
   "id": "9cccb71d",
   "metadata": {},
   "outputs": [
    {
     "name": "stdout",
     "output_type": "stream",
     "text": [
      "Up-and-out call  : 2.066903\n",
      "Up-and-in  call  : 5.188596\n",
      "Sum in+out       : 7.255498  vs vanilla 7.255498\n"
     ]
    }
   ],
   "source": [
    "H_up = 120.0\n",
    "\n",
    "p_uo_call = barrier_price_mc(S0, K, H_up, T, r, q, sigma,\n",
    "                             option=\"call\", barrier=\"up-and-out\",\n",
    "                             cfg=cfg_fast)\n",
    "p_ui_call = barrier_price_mc(S0, K, H_up, T, r, q, sigma,\n",
    "                             option=\"call\", barrier=\"up-and-in\",\n",
    "                             cfg=cfg_fast)\n",
    "\n",
    "print(f\"Up-and-out call  : {p_uo_call:.6f}\")\n",
    "print(f\"Up-and-in  call  : {p_ui_call:.6f}\")\n",
    "print(f\"Sum in+out       : {p_uo_call + p_ui_call:.6f}  vs vanilla {vanilla_call:.6f}\")\n"
   ]
  },
  {
   "cell_type": "markdown",
   "id": "c7b9aba1",
   "metadata": {},
   "source": [
    "## 3) Down-and-out and Down-and-in puts\n",
    "\n",
    "*Same parity for puts with a down barrier.*\n"
   ]
  },
  {
   "cell_type": "code",
   "execution_count": null,
   "id": "84855f51",
   "metadata": {},
   "outputs": [
    {
     "name": "stdout",
     "output_type": "stream",
     "text": [
      "Down-and-out put : 3.018635\n",
      "Down-and-in  put : 3.489669\n",
      "Sum in+out       : 6.508304  vs vanilla 6.508304\n"
     ]
    }
   ],
   "source": [
    "H_dn = 80.0\n",
    "\n",
    "p_do_put = barrier_price_mc(S0, K, H_dn, T, r, q, sigma,\n",
    "                            option=\"put\", barrier=\"down-and-out\",\n",
    "                            cfg=cfg_fast)\n",
    "p_di_put = barrier_price_mc(S0, K, H_dn, T, r, q, sigma,\n",
    "                            option=\"put\", barrier=\"down-and-in\",\n",
    "                            cfg=cfg_fast)\n",
    "\n",
    "print(f\"Down-and-out put : {p_do_put:.6f}\")\n",
    "print(f\"Down-and-in  put : {p_di_put:.6f}\")\n",
    "print(f\"Sum in+out       : {p_do_put + p_di_put:.6f}  vs vanilla {vanilla_put:.6f}\")\n"
   ]
  },
  {
   "cell_type": "markdown",
   "id": "754fbab2",
   "metadata": {},
   "source": [
    "## 4) Immediate knock-out sanity\n",
    "\n",
    "*If S0 is on the wrong side of the barrier at t = 0, an out option should be near zero unless a rebate applies.*\n"
   ]
  },
  {
   "cell_type": "code",
   "execution_count": null,
   "id": "65612363",
   "metadata": {},
   "outputs": [
    {
     "name": "stdout",
     "output_type": "stream",
     "text": [
      "Immediate KO (up-and-out, S0>=H): 0.000000000000\n"
     ]
    }
   ],
   "source": [
    "price_uo_immediate = barrier_price_mc(105.0, K, 100.0, T, r, q, sigma,\n",
    "                                      option=\"call\", barrier=\"up-and-out\",\n",
    "                                      cfg=cfg_fast)\n",
    "print(f\"Immediate KO (up-and-out, S0>=H): {price_uo_immediate:.12f}\")\n"
   ]
  },
  {
   "cell_type": "markdown",
   "id": "12f18499",
   "metadata": {},
   "source": [
    "## 5) Rebate effect\n",
    "\n",
    "*Adding a rebate increases the knock-out price. Compare KO with and without a cash rebate.*\n",
    "\n"
   ]
  },
  {
   "cell_type": "code",
   "execution_count": 14,
   "id": "b1251ede",
   "metadata": {},
   "outputs": [
    {
     "name": "stdout",
     "output_type": "stream",
     "text": [
      "KO with rebate 0: 2.066903\n",
      "KO with rebate 5: 7.046601  (should be larger)\n"
     ]
    }
   ],
   "source": [
    "rebate0 = barrier_price_mc(S0, K, H_up, T, r, q, sigma,\n",
    "                           option=\"call\", barrier=\"up-and-out\",\n",
    "                           rebate=0.0, cfg=cfg_fast)\n",
    "rebate5 = barrier_price_mc(S0, K, H_up, T, r, q, sigma,\n",
    "                           option=\"call\", barrier=\"up-and-out\",\n",
    "                           rebate=5.0, cfg=cfg_fast)\n",
    "\n",
    "print(f\"KO with rebate 0: {rebate0:.6f}\")\n",
    "print(f\"KO with rebate 5: {rebate5:.6f}  (should be larger)\")\n"
   ]
  },
  {
   "cell_type": "markdown",
   "id": "8afa4b46",
   "metadata": {},
   "source": [
    "## 6) Convergence with time steps\n",
    "\n",
    "*Barrier pricing is sensitive to time discretization. Brownian bridge reduces bias, but watch convergence as steps increase.*\n"
   ]
  },
  {
   "cell_type": "code",
   "execution_count": 15,
   "id": "a7d08798",
   "metadata": {},
   "outputs": [
    {
     "name": "stdout",
     "output_type": "stream",
     "text": [
      "steps= 64  price=2.069619\n",
      "steps=126  price=2.055439\n",
      "steps=252  price=2.081934\n",
      "steps=504  price=2.068075\n"
     ]
    },
    {
     "data": {
      "image/png": "[encoded data removed]",
      "text/plain": [
       "<Figure size 600x400 with 1 Axes>"
      ]
     },
     "metadata": {},
     "output_type": "display_data"
    }
   ],
   "source": [
    "steps_list = [64, 126, 252, 504]\n",
    "prices = []\n",
    "\n",
    "for m in steps_list:\n",
    "    cfg_m = MCConfig(n_paths=120_000, n_steps=m, seed=99, antithetic=True)\n",
    "    p = barrier_price_mc(S0, K, H_up, T, r, q, sigma,\n",
    "                         option=\"call\", barrier=\"up-and-out\",\n",
    "                         cfg=cfg_m)\n",
    "    prices.append(p)\n",
    "\n",
    "for m, p in zip(steps_list, prices):\n",
    "    print(f\"steps={m:3d}  price={p:.6f}\")\n",
    "\n",
    "plt.figure(figsize=(6,4))\n",
    "plt.plot(steps_list, prices, marker=\"o\")\n",
    "plt.xlabel(\"Time steps\")\n",
    "plt.ylabel(\"Up-and-out call price\")\n",
    "plt.title(\"Convergence vs time steps\")\n",
    "plt.grid(True)\n",
    "plt.show()\n"
   ]
  },
  {
   "cell_type": "markdown",
   "id": "ffc48bec",
   "metadata": {},
   "source": [
    "## 7) Digitals in BSM with q\n",
    "\n",
    "*Cash-or-nothing and asset-or-nothing digitals, plus simple bounds and monotonicity checks.*\n"
   ]
  },
  {
   "cell_type": "code",
   "execution_count": 16,
   "id": "3034386e",
   "metadata": {},
   "outputs": [
    {
     "name": "stdout",
     "output_type": "stream",
     "text": [
      "Cash digital call : 0.479124\n",
      "Cash digital put  : 0.513404\n",
      "Asset digital call: 55.167877\n",
      "Asset digital put : 44.832123\n",
      "Call cash digital decreases with K? True\n",
      "Put  cash digital increases with K? True\n"
     ]
    }
   ],
   "source": [
    "cash_call = digital_cash_bsm(S0, K, T, r, sigma, q=q, option=\"call\", cash=1.0)\n",
    "cash_put  = digital_cash_bsm(S0, K, T, r, sigma, q=q, option=\"put\",  cash=1.0)\n",
    "asset_call = digital_asset_bsm(S0, K, T, r, sigma, q=q, option=\"call\")\n",
    "asset_put  = digital_asset_bsm(S0, K, T, r, sigma, q=q, option=\"put\")\n",
    "\n",
    "print(f\"Cash digital call : {cash_call:.6f}\")\n",
    "print(f\"Cash digital put  : {cash_put:.6f}\")\n",
    "print(f\"Asset digital call: {asset_call:.6f}\")\n",
    "print(f\"Asset digital put : {asset_put:.6f}\")\n",
    "\n",
    "# Monotonicity in strike for cash digital\n",
    "cash_call_K_up = digital_cash_bsm(S0, K+1.0, T, r, sigma, q=q, option=\"call\", cash=1.0)\n",
    "cash_put_K_up  = digital_cash_bsm(S0, K+1.0, T, r, sigma, q=q, option=\"put\",  cash=1.0)\n",
    "print(f\"Call cash digital decreases with K? {cash_call_K_up <= cash_call}\")\n",
    "print(f\"Put  cash digital increases with K? {cash_put_K_up  >= cash_put }\")\n"
   ]
  },
  {
   "cell_type": "markdown",
   "id": "9ee8eb93",
   "metadata": {},
   "source": [
    "## 8) Barrier sweep\n",
    "\n",
    "*Price a small grid of up barriers for quick intuition.*\n",
    "\n",
    "* Up-and-out call should increase as the barrier moves farther above spot.\n",
    "* Up-and-in call should decrease correspondingly.\n",
    "* Their sum should match the vanilla call at every barrier.\n"
   ]
  },
  {
   "cell_type": "code",
   "execution_count": 22,
   "id": "6d9ae062",
   "metadata": {},
   "outputs": [
    {
     "data": {
      "image/png": "[encoded data removed]",
      "text/plain": [
       "<Figure size 600x400 with 1 Axes>"
      ]
     },
     "metadata": {},
     "output_type": "display_data"
    }
   ],
   "source": [
    "H_levels = np.array([105.0, 110.0, 115.0, 120.0, 125.0])\n",
    "uo_prices, ui_prices = [], []\n",
    "\n",
    "cfg_grid = MCConfig(n_paths=120_000, n_steps=252, seed=777, antithetic=True)\n",
    "\n",
    "for H in H_levels:\n",
    "    uo = barrier_price_mc(S0, K, H, T, r, q, sigma,\n",
    "                          option=\"call\", barrier=\"up-and-out\",\n",
    "                          cfg=cfg_grid)\n",
    "    ui = barrier_price_mc(S0, K, H, T, r, q, sigma,\n",
    "                          option=\"call\", barrier=\"up-and-in\",\n",
    "                          cfg=cfg_grid)\n",
    "    uo_prices.append(uo)\n",
    "    ui_prices.append(ui)\n",
    "\n",
    "uo_prices = np.array(uo_prices)\n",
    "ui_prices = np.array(ui_prices)\n",
    "\n",
    "plt.figure(figsize=(6,4))\n",
    "plt.plot(H_levels, uo_prices, marker=\"o\", label=\"Up-and-out call\")\n",
    "plt.plot(H_levels, ui_prices, marker=\"s\", label=\"Up-and-in call\")\n",
    "plt.axhline(vanilla_call, linestyle=\"--\", label=\"Vanilla call\")\n",
    "plt.xlabel(\"Barrier H\")\n",
    "plt.ylabel(\"Price\")\n",
    "plt.title(\"Barrier price vs barrier level (up-barrier calls)\")\n",
    "plt.grid(True)\n",
    "plt.legend()\n",
    "plt.show()\n"
   ]
  },
  {
   "cell_type": "markdown",
   "id": "f557ea33",
   "metadata": {},
   "source": [
    "## 9) Higher accuracy run\n",
    "\n",
    "*For tighter parity and smoother estimates, increase both paths and steps.*\n"
   ]
  },
  {
   "cell_type": "code",
   "execution_count": 23,
   "id": "63f40ae9",
   "metadata": {},
   "outputs": [
    {
     "name": "stdout",
     "output_type": "stream",
     "text": [
      "[Accurate] UO call: 2.072870\n",
      "[Accurate] UI call: 5.182629\n",
      "[Accurate] Sum    : 7.255498 vs vanilla 7.255498\n"
     ]
    }
   ],
   "source": [
    "p_uo_call_hi = barrier_price_mc(S0, K, H_up, T, r, q, sigma,\n",
    "                                option=\"call\", barrier=\"up-and-out\",\n",
    "                                cfg=cfg_accurate)\n",
    "p_ui_call_hi = barrier_price_mc(S0, K, H_up, T, r, q, sigma,\n",
    "                                option=\"call\", barrier=\"up-and-in\",\n",
    "                                cfg=cfg_accurate)\n",
    "\n",
    "print(f\"[Accurate] UO call: {p_uo_call_hi:.6f}\")\n",
    "print(f\"[Accurate] UI call: {p_ui_call_hi:.6f}\")\n",
    "print(f\"[Accurate] Sum    : {p_uo_call_hi + p_ui_call_hi:.6f} vs vanilla {vanilla_call:.6f}\")\n"
   ]
  },
  {
   "cell_type": "markdown",
   "id": "442382c7",
   "metadata": {},
   "source": [
    "## 10) Down-barrier puts sweep\n",
    "\n",
    "*Down-and-out put should increase as the barrier moves farther below spot (harder to knock out).  \n",
    "Down-and-in put should decrease as the barrier moves farther away (harder to trigger).  \n",
    "Their sum should match the vanilla put at every barrier level.*\n"
   ]
  },
  {
   "cell_type": "code",
   "execution_count": 24,
   "id": "cbb4e5b8",
   "metadata": {},
   "outputs": [
    {
     "data": {
      "image/png": "[encoded data removed]",
      "text/plain": [
       "<Figure size 600x400 with 1 Axes>"
      ]
     },
     "metadata": {},
     "output_type": "display_data"
    },
    {
     "name": "stdout",
     "output_type": "stream",
     "text": [
      "H    in+out    vanilla\n",
      "95.0  6.508304  6.508304\n",
      "90.0  6.508304  6.508304\n",
      "85.0  6.508304  6.508304\n",
      "80.0  6.508304  6.508304\n",
      "75.0  6.508304  6.508304\n"
     ]
    }
   ],
   "source": [
    "# Down-barrier put sweep\n",
    "H_levels_dn = np.array([95.0, 90.0, 85.0, 80.0, 75.0])\n",
    "do_prices, di_prices = [], []\n",
    "\n",
    "cfg_grid_dn = MCConfig(n_paths=120_000, n_steps=252, seed=123, antithetic=True)\n",
    "\n",
    "for H in H_levels_dn:\n",
    "    do = barrier_price_mc(S0, K, H, T, r, q, sigma,\n",
    "                          option=\"put\", barrier=\"down-and-out\",\n",
    "                          cfg=cfg_grid_dn)\n",
    "    di = barrier_price_mc(S0, K, H, T, r, q, sigma,\n",
    "                          option=\"put\", barrier=\"down-and-in\",\n",
    "                          cfg=cfg_grid_dn)\n",
    "    do_prices.append(do)\n",
    "    di_prices.append(di)\n",
    "\n",
    "do_prices = np.array(do_prices)\n",
    "di_prices = np.array(di_prices)\n",
    "\n",
    "plt.figure(figsize=(6,4))\n",
    "plt.plot(H_levels_dn, do_prices, marker=\"o\", label=\"Down-and-out put\")\n",
    "plt.plot(H_levels_dn, di_prices, marker=\"s\", label=\"Down-and-in put\")\n",
    "plt.axhline(vanilla_put, linestyle=\"--\", label=\"Vanilla put\")\n",
    "plt.xlabel(\"Barrier H\")\n",
    "plt.ylabel(\"Price\")\n",
    "plt.title(\"Barrier price vs barrier level (down-barrier puts)\")\n",
    "plt.grid(True)\n",
    "plt.legend()\n",
    "plt.show()\n",
    "\n",
    "# Optional parity printout\n",
    "print(\"H    in+out    vanilla\")\n",
    "for H, do, di in zip(H_levels_dn, do_prices, di_prices):\n",
    "    print(f\"{H:4.1f} {do+di:9.6f} {vanilla_put:9.6f}\")\n"
   ]
  },
  {
   "cell_type": "markdown",
   "id": "c159ba65",
   "metadata": {},
   "source": [
    "## 10) Barrier digitals vs analytical digitals\n",
    "\n",
    "We verify classic identities in Black–Scholes:\n",
    "\n",
    "* Cash digital call:  *e^{-rT} N(d2) = −∂C/∂K*  \n",
    "* Cash digital put:   *e^{-rT} N(−d2) =  ∂P/∂K*  \n",
    "* Asset digital call: *S e^{-qT} N(d1) = S · ∂C/∂S*  \n",
    "* Asset digital put:  *S e^{-qT} N(−d1) = −S · ∂P/∂S*\n",
    "\n",
    "We compare our digital formulas with central differences on vanilla prices.\n"
   ]
  },
  {
   "cell_type": "code",
   "execution_count": 25,
   "id": "40c21ed3",
   "metadata": {},
   "outputs": [
    {
     "name": "stdout",
     "output_type": "stream",
     "text": [
      "Cash digital identities:\n",
      "call:  cash=0.47912369  vs  -dC/dK=0.47912423  diff=5.402e-07\n",
      "put :  cash=0.51340437  vs   dP/dK=0.51340383  diff=5.402e-07\n",
      "\n",
      "Asset digital identities:\n",
      "call:  asset=55.16787723  vs  S*dC/dS=55.16780691  diff=7.031e-05\n",
      "put :  asset=44.83212277  vs -S*dP/dS=44.83219309  diff=7.031e-05\n"
     ]
    }
   ],
   "source": [
    "# Finite difference helpers for K and S derivatives\n",
    "def d_price_dK(option_type, K, h=1e-3):\n",
    "    p_plus  = black_scholes_price(S0, K + h, T, r, sigma, option_type=option_type, q=q)\n",
    "    p_minus = black_scholes_price(S0, K - h, T, r, sigma, option_type=option_type, q=q)\n",
    "    return (p_plus - p_minus) / (2.0 * h)\n",
    "\n",
    "def d_price_dS(option_type, S, h=1e-3):\n",
    "    p_plus  = black_scholes_price(S + h, K, T, r, sigma, option_type=option_type, q=q)\n",
    "    p_minus = black_scholes_price(S - h, K, T, r, sigma, option_type=option_type, q=q)\n",
    "    return (p_plus - p_minus) / (2.0 * h)\n",
    "\n",
    "# Step sizes relative to scale\n",
    "hK = 1e-3 * max(1.0, K)\n",
    "hS = 1e-3 * max(1.0, S0)\n",
    "\n",
    "# Cash digitals vs strike derivatives\n",
    "cash_call = digital_cash_bsm(S0, K, T, r, sigma, q=q, option=\"call\", cash=1.0)\n",
    "cash_put  = digital_cash_bsm(S0, K, T, r, sigma, q=q, option=\"put\",  cash=1.0)\n",
    "dCdK = d_price_dK(\"call\", K, h=hK)\n",
    "dPdK = d_price_dK(\"put\",  K, h=hK)\n",
    "print(\"Cash digital identities:\")\n",
    "print(f\"call:  cash={cash_call:.8f}  vs  -dC/dK={-dCdK:.8f}  diff={abs(cash_call + dCdK):.3e}\")\n",
    "print(f\"put :  cash={cash_put :.8f}  vs   dP/dK={ dPdK:.8f}  diff={abs(cash_put  - dPdK):.3e}\")\n",
    "\n",
    "# Asset digitals vs S derivatives\n",
    "asset_call = digital_asset_bsm(S0, K, T, r, sigma, q=q, option=\"call\")\n",
    "asset_put  = digital_asset_bsm(S0, K, T, r, sigma, q=q, option=\"put\")\n",
    "dCdS = d_price_dS(\"call\", S0, h=hS)\n",
    "dPdS = d_price_dS(\"put\",  S0, h=hS)\n",
    "print(\"\\nAsset digital identities:\")\n",
    "print(f\"call:  asset={asset_call:.8f}  vs  S*dC/dS={S0*dCdS:.8f}  diff={abs(asset_call - S0*dCdS):.3e}\")\n",
    "print(f\"put :  asset={asset_put :.8f}  vs -S*dP/dS={-S0*dPdS:.8f}  diff={abs(asset_put  + S0*dPdS):.3e}\")\n"
   ]
  },
  {
   "cell_type": "code",
   "execution_count": null,
   "id": "4f7d67a5",
   "metadata": {},
   "outputs": [],
   "source": []
  },
  {
   "cell_type": "markdown",
   "id": "4c47f7e1",
   "metadata": {},
   "source": [
    "## 9) Higher accuracy run\n",
    "\n",
    "*For tighter parity, bump paths and steps. This is slower.*\n"
   ]
  },
  {
   "cell_type": "code",
   "execution_count": 18,
   "id": "2507c59e",
   "metadata": {},
   "outputs": [
    {
     "name": "stdout",
     "output_type": "stream",
     "text": [
      "[Accurate] UO call: 2.072870\n",
      "[Accurate] UI call: 5.182629\n",
      "[Accurate] Sum    : 7.255498 vs vanilla 7.255498\n"
     ]
    }
   ],
   "source": [
    "p_uo_call_hi = barrier_price_mc(S0, K, H_up, T, r, q, sigma,\n",
    "                                option=\"call\", barrier=\"up-and-out\",\n",
    "                                cfg=cfg_accurate)\n",
    "p_ui_call_hi = barrier_price_mc(S0, K, H_up, T, r, q, sigma,\n",
    "                                option=\"call\", barrier=\"up-and-in\",\n",
    "                                cfg=cfg_accurate)\n",
    "\n",
    "print(f\"[Accurate] UO call: {p_uo_call_hi:.6f}\")\n",
    "print(f\"[Accurate] UI call: {p_ui_call_hi:.6f}\")\n",
    "print(f\"[Accurate] Sum    : {p_uo_call_hi + p_ui_call_hi:.6f} vs vanilla {vanilla_call:.6f}\")\n"
   ]
  },
  {
   "cell_type": "markdown",
   "id": "4f6e2759",
   "metadata": {},
   "source": [
    "## 10) Notes\n",
    "\n",
    "* Practical\n",
    "  * Up-and-out calls and down-and-out puts are common in equity\n",
    "  * Brownian bridge reduces discretization bias significantly\n",
    "  * Increase time steps for short T or tight barriers\n",
    "\n",
    "* Performance\n",
    "  * Antithetic variates help variance\n",
    "  * Warm start with fewer paths to tune steps\n",
    "  * Vectorize loops when sweeping K or H\n"
   ]
  },
  {
   "cell_type": "markdown",
   "id": "e139e3ff",
   "metadata": {},
   "source": [
    "## 11) Takeaways\n",
    "\n",
    "* Brownian-bridge correction stabilizes barrier pricing across time steps.\n",
    "* In–out parity holds tightly for both up-barrier calls and down-barrier puts.\n",
    "* Rebates lift knock-out prices and adjust parity by the PV of expected rebates.\n",
    "* Digital options pass structural identities:\n",
    "  * Cash digital ≈ ±∂Vanilla/∂K\n",
    "  * Asset digital ≈ ±S·∂Vanilla/∂S\n",
    "* For short maturities or tight barriers, increase time steps and paths.\n",
    "* Keep paths fixed when comparing step counts so you can isolate discretization effects.\n"
   ]
  },
  {
   "cell_type": "markdown",
   "id": "88c8d9c1",
   "metadata": {},
   "source": []
  }
 ],
 "metadata": {
  "kernelspec": {
   "display_name": "venv (3.13.5)",
   "language": "python",
   "name": "python3"
  },
  "language_info": {
   "codemirror_mode": {
    "name": "ipython",
    "version": 3
   },
   "file_extension": ".py",
   "mimetype": "text/x-python",
   "name": "python",
   "nbconvert_exporter": "python",
   "pygments_lexer": "ipython3",
   "version": "3.13.5"
  }
 },
 "nbformat": 4,
 "nbformat_minor": 5
}
